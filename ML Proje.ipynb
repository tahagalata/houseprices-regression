{
 "cells": [
  {
   "cell_type": "markdown",
   "id": "d8c4e15a-1b16-4592-9a76-7a3a2c59d27b",
   "metadata": {},
   "source": [
    "##### Bengisu Berkel-070180049\n",
    "##### Şükran Han-070180128\n",
    "##### Taha Galata-070190002\n",
    "##### Teoman İnan-070180033"
   ]
  },
  {
   "cell_type": "markdown",
   "id": "3451873a-93bc-4c6e-ae9d-d3e02176106b",
   "metadata": {},
   "source": [
    "### Importing libraries and train data"
   ]
  },
  {
   "cell_type": "code",
   "execution_count": 52,
   "id": "6936e978-00ac-4cfc-9ba4-6a0bfbd75eea",
   "metadata": {},
   "outputs": [],
   "source": [
    "import pandas as pd\n",
    "import numpy as np\n",
    "from sklearn.impute import KNNImputer"
   ]
  },
  {
   "cell_type": "code",
   "execution_count": 53,
   "id": "2d9832ed-3f3c-49f1-ad1d-fadeb43ba4f4",
   "metadata": {},
   "outputs": [],
   "source": [
    "train=pd.read_csv('train.csv',index_col=0)"
   ]
  },
  {
   "cell_type": "code",
   "execution_count": 54,
   "id": "7f0a9c8c-c4aa-4d8c-b25f-ffea355c60b3",
   "metadata": {},
   "outputs": [],
   "source": [
    "#encoding categorical data\n",
    "train=pd.get_dummies(train,drop_first=True)"
   ]
  },
  {
   "cell_type": "markdown",
   "id": "e3bfd6c0-f747-49d5-af5f-b86cf6561cfa",
   "metadata": {},
   "source": [
    "### Handling missing data"
   ]
  },
  {
   "cell_type": "code",
   "execution_count": 55,
   "id": "3f072b38-8ab8-4ab7-8d49-163d93c9aeaf",
   "metadata": {},
   "outputs": [
    {
     "data": {
      "text/plain": [
       "longitude                       0\n",
       "latitude                        0\n",
       "housing_median_age              0\n",
       "total_rooms                     0\n",
       "total_bedrooms                164\n",
       "population                      0\n",
       "households                      0\n",
       "median_income                   0\n",
       "median_house_value              0\n",
       "ocean_proximity_INLAND          0\n",
       "ocean_proximity_ISLAND          0\n",
       "ocean_proximity_NEAR BAY        0\n",
       "ocean_proximity_NEAR OCEAN      0\n",
       "dtype: int64"
      ]
     },
     "execution_count": 55,
     "metadata": {},
     "output_type": "execute_result"
    }
   ],
   "source": [
    "train.isna().sum()"
   ]
  },
  {
   "cell_type": "markdown",
   "id": "495418fe-05ac-485f-ae42-935002bf8a13",
   "metadata": {},
   "source": [
    "there was missing data on total_bedrooms, we will predict them using KNNImputer"
   ]
  },
  {
   "cell_type": "code",
   "execution_count": 56,
   "id": "3c42382b-6bfc-4ae3-896d-97a59279d599",
   "metadata": {},
   "outputs": [],
   "source": [
    "imputer = KNNImputer(n_neighbors=5)\n",
    "knn_array_train=imputer.fit_transform(train)\n",
    "train=pd.DataFrame(knn_array_train,columns=train.columns)"
   ]
  },
  {
   "cell_type": "code",
   "execution_count": 57,
   "id": "607e56f6-6269-4f6e-806b-84d5774f3628",
   "metadata": {},
   "outputs": [
    {
     "data": {
      "text/plain": [
       "longitude                     0\n",
       "latitude                      0\n",
       "housing_median_age            0\n",
       "total_rooms                   0\n",
       "total_bedrooms                0\n",
       "population                    0\n",
       "households                    0\n",
       "median_income                 0\n",
       "median_house_value            0\n",
       "ocean_proximity_INLAND        0\n",
       "ocean_proximity_ISLAND        0\n",
       "ocean_proximity_NEAR BAY      0\n",
       "ocean_proximity_NEAR OCEAN    0\n",
       "dtype: int64"
      ]
     },
     "execution_count": 57,
     "metadata": {},
     "output_type": "execute_result"
    }
   ],
   "source": [
    "train.isna().sum()"
   ]
  },
  {
   "cell_type": "markdown",
   "id": "53563155-138d-4634-a698-836d7318b90e",
   "metadata": {},
   "source": [
    "We will split data"
   ]
  },
  {
   "cell_type": "code",
   "execution_count": 58,
   "id": "1cbec793-0175-4deb-a4df-4863e586acc4",
   "metadata": {},
   "outputs": [],
   "source": [
    "y_train=train[\"median_house_value\"]"
   ]
  },
  {
   "cell_type": "code",
   "execution_count": 59,
   "id": "02cb9da6-8c37-454b-8ded-f0610ad63342",
   "metadata": {},
   "outputs": [],
   "source": [
    "x_train=train.drop('median_house_value',axis=1)"
   ]
  },
  {
   "cell_type": "markdown",
   "id": "e526ac34-be59-4b10-af7e-1b9f4cbde72b",
   "metadata": {},
   "source": [
    "### Gridsearch"
   ]
  },
  {
   "cell_type": "code",
   "execution_count": 61,
   "id": "c65d6f5e-f3ce-4757-aa89-b89e69ba9e51",
   "metadata": {},
   "outputs": [
    {
     "name": "stdout",
     "output_type": "stream",
     "text": [
      "Fitting 5 folds for each of 248 candidates, totalling 1240 fits\n"
     ]
    },
    {
     "data": {
      "text/plain": [
       "GradientBoostingRegressor(max_depth=8, n_estimators=200)"
      ]
     },
     "execution_count": 61,
     "metadata": {},
     "output_type": "execute_result"
    }
   ],
   "source": [
    "from sklearn.ensemble import AdaBoostRegressor, RandomForestRegressor, GradientBoostingRegressor\n",
    "from sklearn.linear_model import LinearRegression, Ridge, Lasso\n",
    "from sklearn.metrics import mean_squared_error\n",
    "from sklearn.neighbors import KNeighborsRegressor\n",
    "from sklearn.tree import DecisionTreeRegressor\n",
    "from sklearn.pipeline import Pipeline\n",
    "from sklearn import preprocessing\n",
    "from sklearn.model_selection import GridSearchCV\n",
    "\n",
    "\n",
    "# Create a pipeline\n",
    "pipe = Pipeline([('scaler', preprocessing.StandardScaler()),('Regressor',LinearRegression())])\n",
    "\n",
    "# Create space of candidate learning algorithms and their hyperparameters\n",
    "search_space = [{'Regressor': [LinearRegression()],'Regressor__fit_intercept': [True, False]},\n",
    "                {'Regressor': [Ridge()],'Regressor__alpha': [0.1, 1.0, 10.0], 'Regressor__fit_intercept': [True, False]},\n",
    "                {'Regressor': [Lasso()],'Regressor__alpha': [0.1, 1.0, 10.0], 'Regressor__fit_intercept': [True, False]},\n",
    "                {'Regressor': [AdaBoostRegressor()], 'Regressor__n_estimators': [50, 100, 200], 'Regressor__learning_rate': [0.1, 0.5, 1.0]},\n",
    "                {'Regressor': [DecisionTreeRegressor()], 'Regressor__max_depth': [2, 4, 8, 16], 'Regressor__min_samples_split': [2, 4, 8, 16], 'Regressor__min_samples_leaf': [1, 2, 4]},\n",
    "                {'Regressor': [RandomForestRegressor()],'Regressor__n_estimators': [50, 100, 200], 'Regressor__max_depth': [2, 4, 8, 16], 'Regressor__min_samples_split': [2, 4, 8, 16], 'Regressor__min_samples_leaf': [1, 2, 4]},\n",
    "                {'Regressor': [KNeighborsRegressor()], 'Regressor__n_neighbors': [2, 4, 8], 'Regressor__weights': ['uniform', 'distance']},\n",
    "                {'Regressor': [GradientBoostingRegressor()], 'Regressor__n_estimators': [50, 100, 200], 'Regressor__max_depth': [2, 4, 8], 'Regressor__learning_rate': [0.1, 0.5, 1.0]},\n",
    "               ]\n",
    "# Create grid search \n",
    "clf = GridSearchCV(pipe, search_space, cv=5, verbose=1, scoring='neg_mean_squared_error')\n",
    "# Fit grid search\n",
    "best_model = clf.fit(x_train, y_train.values)\n",
    "# View best model\n",
    "best_model.best_estimator_.get_params()['Regressor']"
   ]
  },
  {
   "cell_type": "markdown",
   "id": "1a0a9c47-6523-40bf-a126-7c8dc35df050",
   "metadata": {},
   "source": [
    "Best regressor was GradientBoostingRegressor(max_depth=8, n_estimators=200) but all hyperparameters are highest values in lists so we need to do gradeint search with higher hyperparameters"
   ]
  },
  {
   "cell_type": "code",
   "execution_count": 65,
   "id": "e39d2c62-88aa-4cf9-b9cc-e5ea05abd249",
   "metadata": {},
   "outputs": [
    {
     "name": "stdout",
     "output_type": "stream",
     "text": [
      "Fitting 5 folds for each of 16 candidates, totalling 80 fits\n"
     ]
    },
    {
     "data": {
      "text/plain": [
       "GradientBoostingRegressor(max_depth=8, n_estimators=300)"
      ]
     },
     "execution_count": 65,
     "metadata": {},
     "output_type": "execute_result"
    }
   ],
   "source": [
    "pipe = Pipeline([('scaler', preprocessing.StandardScaler()),('Regressor',GradientBoostingRegressor())])\n",
    "\n",
    "search_space=[{'Regressor': [GradientBoostingRegressor()], 'Regressor__n_estimators': [150, 200,250,300], 'Regressor__max_depth': [8,12,16,20], 'Regressor__learning_rate': [0.1]},\n",
    "               ]\n",
    "\n",
    "clf = GridSearchCV(pipe, search_space, cv=5, verbose=1, scoring='neg_mean_squared_error')\n",
    "# Fit grid search\n",
    "best_model = clf.fit(x_train, y_train.values)\n",
    "# View best model\n",
    "best_model.best_estimator_.get_params()['Regressor']\n"
   ]
  },
  {
   "cell_type": "markdown",
   "id": "18c43edb-4019-43da-8026-72c3522db4bb",
   "metadata": {},
   "source": [
    "The highest scored model was GradientBoostingRegressor with max_depth=8 and n_estimators=300"
   ]
  },
  {
   "cell_type": "markdown",
   "id": "a8332719-2934-474c-9f3a-3fb90cd6d4df",
   "metadata": {},
   "source": [
    "### Training best model"
   ]
  },
  {
   "cell_type": "code",
   "execution_count": 82,
   "id": "d2019ec9-1e83-4f7b-912f-f55963bb3523",
   "metadata": {},
   "outputs": [],
   "source": [
    "from sklearn.model_selection import train_test_split"
   ]
  },
  {
   "cell_type": "code",
   "execution_count": 83,
   "id": "f02d13e6-fd44-43fa-9d9d-1000e5f6f90b",
   "metadata": {},
   "outputs": [
    {
     "data": {
      "text/plain": [
       "GradientBoostingRegressor(max_depth=8, n_estimators=300)"
      ]
     },
     "execution_count": 83,
     "metadata": {},
     "output_type": "execute_result"
    }
   ],
   "source": [
    "scaler = preprocessing.StandardScaler()\n",
    "scaler.fit(x_train)\n",
    "x_trainStandard = scaler.transform(x_train)\n",
    "\n",
    "GradientBoosting = GradientBoostingRegressor(n_estimators=300, max_depth=8, learning_rate=0.1)\n",
    "GradientBoosting.fit(x_trainStandard,y_train)"
   ]
  },
  {
   "cell_type": "markdown",
   "id": "8aad49f6-08c7-460d-a9bd-f6e8497954f8",
   "metadata": {},
   "source": [
    "### Calculate cross validation score"
   ]
  },
  {
   "cell_type": "code",
   "execution_count": 95,
   "id": "8e711c73-6d19-402d-b7cc-fba8c2e62b8a",
   "metadata": {},
   "outputs": [
    {
     "name": "stdout",
     "output_type": "stream",
     "text": [
      "Cross validation scores: [0.83444507 0.82455688 0.83208203 0.84571025 0.83933926]\n",
      "Mean score: 0.84\n"
     ]
    }
   ],
   "source": [
    "from sklearn.model_selection import cross_val_score\n",
    "# perform cross validation\n",
    "scores = cross_val_score(GradientBoosting, x_train, y_train, cv=5,scoring=\"r2\")\n",
    "print(\"Cross validation scores: {}\".format(scores))\n",
    "print(\"Mean score: {:.2f}\".format(scores.mean()))"
   ]
  },
  {
   "cell_type": "markdown",
   "id": "50680911-0533-4a77-bdbf-f80246bf805a",
   "metadata": {},
   "source": [
    "Cross validation scores look good"
   ]
  },
  {
   "cell_type": "markdown",
   "id": "5a18b90d-7efd-46fb-8ef3-b7e055b0b634",
   "metadata": {
    "tags": []
   },
   "source": [
    "### Predicting median_house_value for Test Data"
   ]
  },
  {
   "cell_type": "markdown",
   "id": "fdda42d9-6b00-43e1-bec6-5ebb8dd3c1cd",
   "metadata": {},
   "source": [
    "Using model that has bigger data size"
   ]
  },
  {
   "cell_type": "code",
   "execution_count": 115,
   "id": "407526e3-9b9e-4a2b-9cfc-826d92d9b0f3",
   "metadata": {},
   "outputs": [],
   "source": [
    "test=pd.read_csv(\"test.csv\",index_col=0)"
   ]
  },
  {
   "cell_type": "code",
   "execution_count": 116,
   "id": "21d1a34e-97f6-4e32-be25-7ae7acb5c06b",
   "metadata": {},
   "outputs": [],
   "source": [
    "x_test=pd.get_dummies(test,drop_first=True)"
   ]
  },
  {
   "cell_type": "code",
   "execution_count": 118,
   "id": "684bfa54-532e-418b-80c7-773bedc760e1",
   "metadata": {},
   "outputs": [],
   "source": [
    "#ocean_proximity_ISLAND is missing in dummies because there is no island value in test data\n",
    "island=pd.Series([0]*len(x_test))\n",
    "x_test.insert(9,column=\"ocean_proximity_ISLAND\", value=island)"
   ]
  },
  {
   "cell_type": "code",
   "execution_count": 125,
   "id": "26e430c5-1759-43f3-b209-ac7cfbfda5e1",
   "metadata": {},
   "outputs": [
    {
     "data": {
      "text/plain": [
       "longitude                      0\n",
       "latitude                       0\n",
       "housing_median_age             0\n",
       "total_rooms                    0\n",
       "total_bedrooms                43\n",
       "population                     0\n",
       "households                     0\n",
       "median_income                  0\n",
       "ocean_proximity_INLAND         0\n",
       "ocean_proximity_ISLAND         0\n",
       "ocean_proximity_NEAR BAY       0\n",
       "ocean_proximity_NEAR OCEAN     0\n",
       "dtype: int64"
      ]
     },
     "execution_count": 125,
     "metadata": {},
     "output_type": "execute_result"
    }
   ],
   "source": [
    "x_test.isna().sum()"
   ]
  },
  {
   "cell_type": "markdown",
   "id": "9d8ea73e-307f-423d-8a54-53b440cc2e7b",
   "metadata": {},
   "source": [
    "There is missing values in total_bedrooms, we will predict them with knn"
   ]
  },
  {
   "cell_type": "code",
   "execution_count": 127,
   "id": "0c4bd79d-405e-4cd7-a7e3-03a953b60d46",
   "metadata": {},
   "outputs": [],
   "source": [
    "imputer = KNNImputer(n_neighbors=5)\n",
    "knn_array_train=imputer.fit_transform(x_test)\n",
    "x_test=pd.DataFrame(knn_array_train,columns=x_test.columns)"
   ]
  },
  {
   "cell_type": "code",
   "execution_count": 128,
   "id": "bcc07583-f1ec-4439-959c-4dbc537466f6",
   "metadata": {},
   "outputs": [],
   "source": [
    "x_testStandard=scaler.transform(x_test)"
   ]
  },
  {
   "cell_type": "code",
   "execution_count": 129,
   "id": "9ca28e6b-dc32-42da-a936-b571ff3f98f7",
   "metadata": {},
   "outputs": [],
   "source": [
    "y_test_pred = GradientBoosting.predict(x_testStandard)"
   ]
  },
  {
   "cell_type": "code",
   "execution_count": 131,
   "id": "928fa524-eb1a-4f24-908f-160fadb62682",
   "metadata": {},
   "outputs": [],
   "source": [
    "submission=pd.Series(y_test_pred,name=\"median_house_value\")"
   ]
  },
  {
   "cell_type": "code",
   "execution_count": 133,
   "id": "ff04d354-a6ba-497a-9998-a0badfb1038d",
   "metadata": {},
   "outputs": [],
   "source": [
    "submission.to_excel(\"y_pred.xlsx\")"
   ]
  }
 ],
 "metadata": {
  "kernelspec": {
   "display_name": "Python 3 (ipykernel)",
   "language": "python",
   "name": "python3"
  },
  "language_info": {
   "codemirror_mode": {
    "name": "ipython",
    "version": 3
   },
   "file_extension": ".py",
   "mimetype": "text/x-python",
   "name": "python",
   "nbconvert_exporter": "python",
   "pygments_lexer": "ipython3",
   "version": "3.9.13"
  }
 },
 "nbformat": 4,
 "nbformat_minor": 5
}
